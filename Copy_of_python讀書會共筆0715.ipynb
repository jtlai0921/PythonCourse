{
  "nbformat": 4,
  "nbformat_minor": 0,
  "metadata": {
    "colab": {
      "name": "Copy of python讀書會共筆0715.ipynb",
      "provenance": [],
      "collapsed_sections": [],
      "toc_visible": true,
      "include_colab_link": true
    },
    "kernelspec": {
      "display_name": "Python 3",
      "language": "python",
      "name": "python3"
    },
    "language_info": {
      "codemirror_mode": {
        "name": "ipython",
        "version": 3
      },
      "file_extension": ".py",
      "mimetype": "text/x-python",
      "name": "python",
      "nbconvert_exporter": "python",
      "pygments_lexer": "ipython3",
      "version": "3.7.6"
    }
  },
  "cells": [
    {
      "cell_type": "markdown",
      "metadata": {
        "id": "view-in-github",
        "colab_type": "text"
      },
      "source": [
        "<a href=\"https://colab.research.google.com/github/jtlai0921/PythonCourse/blob/master/Copy_of_python%E8%AE%80%E6%9B%B8%E6%9C%83%E5%85%B1%E7%AD%860715.ipynb\" target=\"_parent\"><img src=\"https://colab.research.google.com/assets/colab-badge.svg\" alt=\"Open In Colab\"/></a>"
      ]
    },
    {
      "cell_type": "markdown",
      "metadata": {
        "colab_type": "text",
        "id": "b_I7tH0Vv7Gb"
      },
      "source": [
        "# python讀書會\n",
        "\n"
      ]
    },
    {
      "cell_type": "markdown",
      "metadata": {
        "colab_type": "text",
        "id": "9oDMfEb3OQeW"
      },
      "source": [
        "## 0715 網路爬蟲 自動爬影片評分"
      ]
    },
    {
      "cell_type": "code",
      "metadata": {
        "colab_type": "code",
        "id": "j2S3b-RGvEq-",
        "colab": {
          "base_uri": "https://localhost:8080/",
          "height": 238
        },
        "outputId": "a4a2dd8f-1063-48a5-a51f-b48d5461e62f"
      },
      "source": [
        "!pip install requests\n",
        "!pip install lxml\n",
        "!pip install selenium"
      ],
      "execution_count": 2,
      "outputs": [
        {
          "output_type": "stream",
          "text": [
            "Requirement already satisfied: requests in /usr/local/lib/python3.6/dist-packages (2.23.0)\n",
            "Requirement already satisfied: certifi>=2017.4.17 in /usr/local/lib/python3.6/dist-packages (from requests) (2020.6.20)\n",
            "Requirement already satisfied: idna<3,>=2.5 in /usr/local/lib/python3.6/dist-packages (from requests) (2.10)\n",
            "Requirement already satisfied: chardet<4,>=3.0.2 in /usr/local/lib/python3.6/dist-packages (from requests) (3.0.4)\n",
            "Requirement already satisfied: urllib3!=1.25.0,!=1.25.1,<1.26,>=1.21.1 in /usr/local/lib/python3.6/dist-packages (from requests) (1.24.3)\n",
            "Requirement already satisfied: lxml in /usr/local/lib/python3.6/dist-packages (4.2.6)\n",
            "Collecting selenium\n",
            "\u001b[?25l  Downloading https://files.pythonhosted.org/packages/80/d6/4294f0b4bce4de0abf13e17190289f9d0613b0a44e5dd6a7f5ca98459853/selenium-3.141.0-py2.py3-none-any.whl (904kB)\n",
            "\u001b[K     |████████████████████████████████| 911kB 2.7MB/s \n",
            "\u001b[?25hRequirement already satisfied: urllib3 in /usr/local/lib/python3.6/dist-packages (from selenium) (1.24.3)\n",
            "Installing collected packages: selenium\n",
            "Successfully installed selenium-3.141.0\n"
          ],
          "name": "stdout"
        }
      ]
    },
    {
      "cell_type": "code",
      "metadata": {
        "colab_type": "code",
        "id": "Me-b-6Rovfxg",
        "colab": {}
      },
      "source": [
        "import requests\n",
        "import numpy as np\n",
        "import pandas as pd\n",
        "import lxml\n",
        "from bs4 import BeautifulSoup"
      ],
      "execution_count": 8,
      "outputs": []
    },
    {
      "cell_type": "markdown",
      "metadata": {
        "colab_type": "text",
        "id": "wJtybDSdcouR"
      },
      "source": [
        "### PTT Beauty 版抓圖"
      ]
    },
    {
      "cell_type": "markdown",
      "metadata": {
        "colab_type": "text",
        "id": "bqgrPIY-sDfI"
      },
      "source": [
        "參考資料 \n",
        "[爬蟲實戰 | HiSKIO 程式語言線上教學](https://www.youtube.com/watch?v=6GCEOY6RmwM&list=PLzH33jxgvsnfEF5l-iH82B2JvBlpq2m0w&index=17&t=0s&app=desktop)\n",
        "[5.1 痴漢爬蟲(PTT表特版下載器)](https://clu.gitbook.io/python-web-crawler-note/51-chi-han-pa-87f228-ptt-biao-te-ban-xia-zai-566829)"
      ]
    },
    {
      "cell_type": "markdown",
      "metadata": {
        "id": "J9I3rQoexFEm",
        "colab_type": "text"
      },
      "source": [
        "結果\n",
        "![image.png](attachment:image.png)"
      ]
    },
    {
      "cell_type": "markdown",
      "metadata": {
        "id": "kKq0iaGmxFEm",
        "colab_type": "text"
      },
      "source": [
        "## 預訂可接案 有機會的產品，各房仲業物件資訊+非法資料(個資)等資料整合"
      ]
    },
    {
      "cell_type": "code",
      "metadata": {
        "colab_type": "code",
        "id": "xmbmslsedvkz",
        "colab": {}
      },
      "source": [
        "# cookies 先同意我已經18歲\n",
        "cookies = {\n",
        "    'over18': '1'\n",
        "}\n",
        "response = requests.get('https://www.ptt.cc/bbs/Beauty/index.html', cookies=cookies)\n",
        "r_text = response.text\n",
        "soup = BeautifulSoup(r_text,'html.parser')"
      ],
      "execution_count": 9,
      "outputs": []
    },
    {
      "cell_type": "code",
      "metadata": {
        "colab_type": "code",
        "id": "yjO7eFsYgDuh",
        "colab": {
          "base_uri": "https://localhost:8080/",
          "height": 235
        },
        "outputId": "fe7a7ee1-cebc-4e73-967d-2521fa018ebb"
      },
      "source": [
        "# 先列出主旨、網址\n",
        "tag_name = 'div.title a'\n",
        "art = soup.select(tag_name)\n",
        "for xx in art:\n",
        "  print (xx['href'],xx.text)\n"
      ],
      "execution_count": 10,
      "outputs": [
        {
          "output_type": "stream",
          "text": [
            "/bbs/Beauty/M.1594807010.A.C65.html [正妹] 俄羅斯洋娃娃\n",
            "/bbs/Beauty/M.1594807916.A.82B.html [正妹] 瑜珈熟女\n",
            "/bbs/Beauty/M.1594812783.A.3DC.html [正妹] 黃齡萱\n",
            "/bbs/Beauty/M.1594817648.A.B8E.html [正妹] 氣象播報員\n",
            "/bbs/Beauty/M.1594818814.A.EEC.html [正妹] 鈴木聖\n",
            "/bbs/Beauty/M.1594819211.A.B0B.html [公告] 水桶\n",
            "/bbs/Beauty/M.1594819269.A.1A3.html [神人] 手機裡面怎麼有這張圖\n",
            "/bbs/Beauty/M.1594819398.A.1A7.html [正妹] 大尺碼｜肉特(109)\n",
            "/bbs/Beauty/M.1589282607.A.C87.html [公告] 不願上表特 ＆ 優文推薦 ＆ 檢舉建議專區\n",
            "/bbs/Beauty/M.1563960846.A.05A.html Fw: [公告] 請使用者多加注意我國保護兒少的法令\n",
            "/bbs/Beauty/M.1564114881.A.155.html [公告] 表特板板規(2020.3.24)\n",
            "/bbs/Beauty/M.1574513001.A.A80.html [公告] 請勿意淫推文 \n",
            "/bbs/Beauty/M.1591064554.A.236.html [公告] 神記者請先搜尋板上\n"
          ],
          "name": "stdout"
        }
      ]
    },
    {
      "cell_type": "code",
      "metadata": {
        "colab_type": "code",
        "id": "RApN3tfklftn",
        "colab": {
          "base_uri": "https://localhost:8080/",
          "height": 1000
        },
        "outputId": "154ad88a-cc38-402e-8bb4-39bb14ad3d67"
      },
      "source": [
        "#自動抓10頁標題、網址\n",
        "cookies = {\n",
        "    'over18': '1'\n",
        "}\n",
        "url = \"https://www.ptt.cc/bbs/Beauty/index.html\"\n",
        "for y in range(5):\n",
        "    response = requests.get(url, cookies=cookies)\n",
        "    r_text = response.text\n",
        "    soup = BeautifulSoup(r_text,'html.parser')\n",
        "    # 先列出主旨、網址\n",
        "    tag_name = 'div.title a'\n",
        "    art = soup.select(tag_name)\n",
        "    print(art)\n",
        "    next = soup.select('div.btn-group-paging a')\n",
        "    next_url = 'https://www.ptt.cc' + next[1]['href']\n",
        "    for xx in art:\n",
        "        print (xx.text,xx['href'])\n",
        "  #換到下一頁，再做一遍迴圈\n",
        "    url = next_url"
      ],
      "execution_count": 11,
      "outputs": [
        {
          "output_type": "stream",
          "text": [
            "[<a href=\"/bbs/Beauty/M.1594807010.A.C65.html\">[正妹] 俄羅斯洋娃娃</a>, <a href=\"/bbs/Beauty/M.1594807916.A.82B.html\">[正妹] 瑜珈熟女</a>, <a href=\"/bbs/Beauty/M.1594812783.A.3DC.html\">[正妹] 黃齡萱</a>, <a href=\"/bbs/Beauty/M.1594817648.A.B8E.html\">[正妹] 氣象播報員</a>, <a href=\"/bbs/Beauty/M.1594818814.A.EEC.html\">[正妹] 鈴木聖</a>, <a href=\"/bbs/Beauty/M.1594819211.A.B0B.html\">[公告] 水桶</a>, <a href=\"/bbs/Beauty/M.1594819269.A.1A3.html\">[神人] 手機裡面怎麼有這張圖</a>, <a href=\"/bbs/Beauty/M.1594819398.A.1A7.html\">[正妹] 大尺碼｜肉特(109)</a>, <a href=\"/bbs/Beauty/M.1589282607.A.C87.html\">[公告] 不願上表特 ＆ 優文推薦 ＆ 檢舉建議專區</a>, <a href=\"/bbs/Beauty/M.1563960846.A.05A.html\">Fw: [公告] 請使用者多加注意我國保護兒少的法令</a>, <a href=\"/bbs/Beauty/M.1564114881.A.155.html\">[公告] 表特板板規(2020.3.24)</a>, <a href=\"/bbs/Beauty/M.1574513001.A.A80.html\">[公告] 請勿意淫推文 </a>, <a href=\"/bbs/Beauty/M.1591064554.A.236.html\">[公告] 神記者請先搜尋板上</a>]\n",
            "[正妹] 俄羅斯洋娃娃 /bbs/Beauty/M.1594807010.A.C65.html\n",
            "[正妹] 瑜珈熟女 /bbs/Beauty/M.1594807916.A.82B.html\n",
            "[正妹] 黃齡萱 /bbs/Beauty/M.1594812783.A.3DC.html\n",
            "[正妹] 氣象播報員 /bbs/Beauty/M.1594817648.A.B8E.html\n",
            "[正妹] 鈴木聖 /bbs/Beauty/M.1594818814.A.EEC.html\n",
            "[公告] 水桶 /bbs/Beauty/M.1594819211.A.B0B.html\n",
            "[神人] 手機裡面怎麼有這張圖 /bbs/Beauty/M.1594819269.A.1A3.html\n",
            "[正妹] 大尺碼｜肉特(109) /bbs/Beauty/M.1594819398.A.1A7.html\n",
            "[公告] 不願上表特 ＆ 優文推薦 ＆ 檢舉建議專區 /bbs/Beauty/M.1589282607.A.C87.html\n",
            "Fw: [公告] 請使用者多加注意我國保護兒少的法令 /bbs/Beauty/M.1563960846.A.05A.html\n",
            "[公告] 表特板板規(2020.3.24) /bbs/Beauty/M.1564114881.A.155.html\n",
            "[公告] 請勿意淫推文  /bbs/Beauty/M.1574513001.A.A80.html\n",
            "[公告] 神記者請先搜尋板上 /bbs/Beauty/M.1591064554.A.236.html\n",
            "[<a href=\"/bbs/Beauty/M.1594735164.A.3BB.html\">[神人] 電梯前的清純女孩</a>, <a href=\"/bbs/Beauty/M.1594737744.A.B3C.html\">[神人] 請問這是哪位女網美/網紅</a>, <a href=\"/bbs/Beauty/M.1594737851.A.2D2.html\">[神人] 請幫神一下請位馬豆的唉居</a>, <a href=\"/bbs/Beauty/M.1594753335.A.CB9.html\">[公告] 水桶</a>, <a href=\"/bbs/Beauty/M.1594759172.A.496.html\">[正妹] 白石麻衣</a>, <a href=\"/bbs/Beauty/M.1594767432.A.C2F.html\">[正妹] 孩子的媽 </a>, <a href=\"/bbs/Beauty/M.1594770004.A.FF3.html\">[正妹] 日本6歲</a>, <a href=\"/bbs/Beauty/M.1594778329.A.7E0.html\">[正妹] 日本13歲 - 星乃みれい</a>, <a href=\"/bbs/Beauty/M.1594789125.A.EFA.html\">[神人] 超商廣告美女</a>, <a href=\"/bbs/Beauty/M.1594789453.A.2AC.html\">[正妹] 性感的Claire鄔又曦</a>, <a href=\"/bbs/Beauty/M.1594792975.A.E33.html\">[正妹] 珊迪 sandy</a>, <a href=\"/bbs/Beauty/M.1594793127.A.226.html\">[廣告] 高崎かなみ 臉蛋神似新垣結衣</a>, <a href=\"/bbs/Beauty/M.1594793824.A.E4C.html\">[正妹] 咖打掐</a>, <a href=\"/bbs/Beauty/M.1594795049.A.6F9.html\">[神人] 神正妹</a>, <a href=\"/bbs/Beauty/M.1594795359.A.0A7.html\">[正妹] 兇 台灣 曬痕</a>, <a href=\"/bbs/Beauty/M.1594798352.A.D74.html\">[神人] 神個妮維雅廣告女主角</a>, <a href=\"/bbs/Beauty/M.1594801809.A.602.html\">[正妹] 奶妹大總匯</a>, <a href=\"/bbs/Beauty/M.1594801903.A.A68.html\">[正妹] 最狂小三</a>]\n",
            "[神人] 電梯前的清純女孩 /bbs/Beauty/M.1594735164.A.3BB.html\n",
            "[神人] 請問這是哪位女網美/網紅 /bbs/Beauty/M.1594737744.A.B3C.html\n",
            "[神人] 請幫神一下請位馬豆的唉居 /bbs/Beauty/M.1594737851.A.2D2.html\n",
            "[公告] 水桶 /bbs/Beauty/M.1594753335.A.CB9.html\n",
            "[正妹] 白石麻衣 /bbs/Beauty/M.1594759172.A.496.html\n",
            "[正妹] 孩子的媽  /bbs/Beauty/M.1594767432.A.C2F.html\n",
            "[正妹] 日本6歲 /bbs/Beauty/M.1594770004.A.FF3.html\n",
            "[正妹] 日本13歲 - 星乃みれい /bbs/Beauty/M.1594778329.A.7E0.html\n",
            "[神人] 超商廣告美女 /bbs/Beauty/M.1594789125.A.EFA.html\n",
            "[正妹] 性感的Claire鄔又曦 /bbs/Beauty/M.1594789453.A.2AC.html\n",
            "[正妹] 珊迪 sandy /bbs/Beauty/M.1594792975.A.E33.html\n",
            "[廣告] 高崎かなみ 臉蛋神似新垣結衣 /bbs/Beauty/M.1594793127.A.226.html\n",
            "[正妹] 咖打掐 /bbs/Beauty/M.1594793824.A.E4C.html\n",
            "[神人] 神正妹 /bbs/Beauty/M.1594795049.A.6F9.html\n",
            "[正妹] 兇 台灣 曬痕 /bbs/Beauty/M.1594795359.A.0A7.html\n",
            "[神人] 神個妮維雅廣告女主角 /bbs/Beauty/M.1594798352.A.D74.html\n",
            "[正妹] 奶妹大總匯 /bbs/Beauty/M.1594801809.A.602.html\n",
            "[正妹] 最狂小三 /bbs/Beauty/M.1594801903.A.A68.html\n",
            "[<a href=\"/bbs/Beauty/M.1594695380.A.18F.html\">[正妹] 一樣頭好壯壯的壯壯</a>, <a href=\"/bbs/Beauty/M.1594697674.A.939.html\">[正妹] 高中生小孩</a>, <a href=\"/bbs/Beauty/M.1594698606.A.9B2.html\">[正妹] 日本小學六年級</a>, <a href=\"/bbs/Beauty/M.1594699271.A.FC6.html\">[正妹] 日本歌舞秀舞者</a>, <a href=\"/bbs/Beauty/M.1594704000.A.12A.html\">[挑戰] 泳裝照一張</a>, <a href=\"/bbs/Beauty/M.1594706029.A.AE3.html\">[廣告] 團遙香 氣質女主播性感一脫搶當新女神</a>, <a href=\"/bbs/Beauty/M.1594708445.A.DAD.html\">[正妹] 韓國7歲 !!!!!!!!!!!!!!!!!!!!!!!!!!!!!!!</a>, <a href=\"/bbs/Beauty/M.1594722100.A.8F8.html\">[正妹] 可愛6歲</a>, <a href=\"/bbs/Beauty/M.1594722405.A.503.html\">[正妹] 泱泱</a>, <a href=\"/bbs/Beauty/M.1594722713.A.3BC.html\">[正妹] 香草姐姐</a>, <a href=\"/bbs/Beauty/M.1594727349.A.BDC.html\">[正妹] QQ</a>, <a href=\"/bbs/Beauty/M.1594728111.A.D9F.html\">[正妹] 短髮無敵</a>, <a href=\"/bbs/Beauty/M.1594729257.A.5DA.html\">[正妹] 徐玄</a>, <a href=\"/bbs/Beauty/M.1594729786.A.63D.html\">[正妹] 大尺碼｜肉特(107)</a>, <a href=\"/bbs/Beauty/M.1594729805.A.648.html\">[正妹] 大尺碼｜肉特(108)</a>, <a href=\"/bbs/Beauty/M.1594730511.A.69B.html\">[正妹] 陳語安</a>, <a href=\"/bbs/Beauty/M.1594731823.A.96C.html\">[神人] 綠巨人</a>, <a href=\"/bbs/Beauty/M.1594734562.A.1D7.html\">[正妹] 45歲</a>]\n",
            "[正妹] 一樣頭好壯壯的壯壯 /bbs/Beauty/M.1594695380.A.18F.html\n",
            "[正妹] 高中生小孩 /bbs/Beauty/M.1594697674.A.939.html\n",
            "[正妹] 日本小學六年級 /bbs/Beauty/M.1594698606.A.9B2.html\n",
            "[正妹] 日本歌舞秀舞者 /bbs/Beauty/M.1594699271.A.FC6.html\n",
            "[挑戰] 泳裝照一張 /bbs/Beauty/M.1594704000.A.12A.html\n",
            "[廣告] 團遙香 氣質女主播性感一脫搶當新女神 /bbs/Beauty/M.1594706029.A.AE3.html\n",
            "[正妹] 韓國7歲 !!!!!!!!!!!!!!!!!!!!!!!!!!!!!!! /bbs/Beauty/M.1594708445.A.DAD.html\n",
            "[正妹] 可愛6歲 /bbs/Beauty/M.1594722100.A.8F8.html\n",
            "[正妹] 泱泱 /bbs/Beauty/M.1594722405.A.503.html\n",
            "[正妹] 香草姐姐 /bbs/Beauty/M.1594722713.A.3BC.html\n",
            "[正妹] QQ /bbs/Beauty/M.1594727349.A.BDC.html\n",
            "[正妹] 短髮無敵 /bbs/Beauty/M.1594728111.A.D9F.html\n",
            "[正妹] 徐玄 /bbs/Beauty/M.1594729257.A.5DA.html\n",
            "[正妹] 大尺碼｜肉特(107) /bbs/Beauty/M.1594729786.A.63D.html\n",
            "[正妹] 大尺碼｜肉特(108) /bbs/Beauty/M.1594729805.A.648.html\n",
            "[正妹] 陳語安 /bbs/Beauty/M.1594730511.A.69B.html\n",
            "[神人] 綠巨人 /bbs/Beauty/M.1594731823.A.96C.html\n",
            "[正妹] 45歲 /bbs/Beauty/M.1594734562.A.1D7.html\n",
            "[<a href=\"/bbs/Beauty/M.1594575729.A.998.html\">[正妹] 女導演</a>, <a href=\"/bbs/Beauty/M.1594591329.A.157.html\">[神人] 影音家電展SG</a>, <a href=\"/bbs/Beauty/M.1594599562.A.ECF.html\">[正妹] 堤礼実 </a>, <a href=\"/bbs/Beauty/M.1594600448.A.118.html\">[正妹] 電眼美女: 林韋君</a>, <a href=\"/bbs/Beauty/M.1594610123.A.428.html\">[神人] Mobile01上的封面人物 (已找到)</a>, <a href=\"/bbs/Beauty/M.1594612605.A.80D.html\">[正妹] 大尺碼｜肉特(105)</a>, <a href=\"/bbs/Beauty/M.1594614669.A.A21.html\">[正妹] 實況主薇薇</a>, <a href=\"/bbs/Beauty/M.1594619249.A.8E7.html\">[廣告] 筧美和子 呼之欲出的雪白美乳</a>, <a href=\"/bbs/Beauty/M.1594637734.A.FBF.html\">[正妹] 呼之欲出的艷紅美乳</a>, <a href=\"/bbs/Beauty/M.1594646098.A.B81.html\">[正妹] 2020的能年玲奈</a>, <a href=\"/bbs/Beauty/M.1594647117.A.144.html\">[正妹] 大尺碼｜肉特(106)</a>, <a href=\"/bbs/Beauty/M.1594650278.A.C84.html\">[正妹] 新北周子瑜</a>, <a href=\"/bbs/Beauty/M.1594657104.A.208.html\">[正妹] 15y</a>, <a href=\"/bbs/Beauty/M.1594668544.A.43C.html\">[正妹] 小學4年級</a>, <a href=\"/bbs/Beauty/M.1594672823.A.EC2.html\">[正妹]小學6年級</a>, <a href=\"/bbs/Beauty/M.1594685613.A.62F.html\">[正妹] 國中2年級</a>, <a href=\"/bbs/Beauty/M.1594688393.A.31C.html\">[公告] 水桶 </a>]\n",
            "[正妹] 女導演 /bbs/Beauty/M.1594575729.A.998.html\n",
            "[神人] 影音家電展SG /bbs/Beauty/M.1594591329.A.157.html\n",
            "[正妹] 堤礼実  /bbs/Beauty/M.1594599562.A.ECF.html\n",
            "[正妹] 電眼美女: 林韋君 /bbs/Beauty/M.1594600448.A.118.html\n",
            "[神人] Mobile01上的封面人物 (已找到) /bbs/Beauty/M.1594610123.A.428.html\n",
            "[正妹] 大尺碼｜肉特(105) /bbs/Beauty/M.1594612605.A.80D.html\n",
            "[正妹] 實況主薇薇 /bbs/Beauty/M.1594614669.A.A21.html\n",
            "[廣告] 筧美和子 呼之欲出的雪白美乳 /bbs/Beauty/M.1594619249.A.8E7.html\n",
            "[正妹] 呼之欲出的艷紅美乳 /bbs/Beauty/M.1594637734.A.FBF.html\n",
            "[正妹] 2020的能年玲奈 /bbs/Beauty/M.1594646098.A.B81.html\n",
            "[正妹] 大尺碼｜肉特(106) /bbs/Beauty/M.1594647117.A.144.html\n",
            "[正妹] 新北周子瑜 /bbs/Beauty/M.1594650278.A.C84.html\n",
            "[正妹] 15y /bbs/Beauty/M.1594657104.A.208.html\n",
            "[正妹] 小學4年級 /bbs/Beauty/M.1594668544.A.43C.html\n",
            "[正妹]小學6年級 /bbs/Beauty/M.1594672823.A.EC2.html\n",
            "[正妹] 國中2年級 /bbs/Beauty/M.1594685613.A.62F.html\n",
            "[公告] 水桶  /bbs/Beauty/M.1594688393.A.31C.html\n",
            "[<a href=\"/bbs/Beauty/M.1594485031.A.500.html\">[正妹] 大眼陽光小隻馬</a>, <a href=\"/bbs/Beauty/M.1594485084.A.CEF.html\">[正妹] 穗珍</a>, <a href=\"/bbs/Beauty/M.1594488219.A.309.html\">[正妹] 韓國Twitch實況主</a>, <a href=\"/bbs/Beauty/M.1594488616.A.A37.html\">[正妹] 金世正</a>, <a href=\"/bbs/Beauty/M.1594496601.A.9B3.html\">[挑戰] 仙</a>, <a href=\"/bbs/Beauty/M.1594506770.A.52A.html\">[神人] 跪求～神這位牙套妹紙</a>, <a href=\"/bbs/Beauty/M.1594511792.A.949.html\">[正妹] 趙孟姿</a>, <a href=\"/bbs/Beauty/M.1594523702.A.65F.html\">[神人] COSER 幫幫忙</a>, <a href=\"/bbs/Beauty/M.1594526409.A.26C.html\">[正妹] 愛德琳</a>, <a href=\"/bbs/Beauty/M.1594528551.A.876.html\">[正妹] 大尺碼｜肉特(103) </a>, <a href=\"/bbs/Beauty/M.1594535539.A.74B.html\">[正妹] 小花 小模</a>, <a href=\"/bbs/Beauty/M.1594538880.A.DB9.html\">[正妹] 運動內衣</a>, <a href=\"/bbs/Beauty/M.1594554466.A.089.html\">[神人] 神這位記者 (劉亭廷)</a>, <a href=\"/bbs/Beauty/M.1594555677.A.9D6.html\">[正妹] 魔鬼身材的高毓璘</a>, <a href=\"/bbs/Beauty/M.1594562810.A.F81.html\">[挑戰] 短髮  一張</a>, <a href=\"/bbs/Beauty/M.1594565982.A.6EA.html\">[神人] 魔鬼身材幫神</a>, <a href=\"/bbs/Beauty/M.1594570097.A.AB9.html\">[正妹] 大尺碼｜肉特(104)</a>]\n",
            "[正妹] 大眼陽光小隻馬 /bbs/Beauty/M.1594485031.A.500.html\n",
            "[正妹] 穗珍 /bbs/Beauty/M.1594485084.A.CEF.html\n",
            "[正妹] 韓國Twitch實況主 /bbs/Beauty/M.1594488219.A.309.html\n",
            "[正妹] 金世正 /bbs/Beauty/M.1594488616.A.A37.html\n",
            "[挑戰] 仙 /bbs/Beauty/M.1594496601.A.9B3.html\n",
            "[神人] 跪求～神這位牙套妹紙 /bbs/Beauty/M.1594506770.A.52A.html\n",
            "[正妹] 趙孟姿 /bbs/Beauty/M.1594511792.A.949.html\n",
            "[神人] COSER 幫幫忙 /bbs/Beauty/M.1594523702.A.65F.html\n",
            "[正妹] 愛德琳 /bbs/Beauty/M.1594526409.A.26C.html\n",
            "[正妹] 大尺碼｜肉特(103)  /bbs/Beauty/M.1594528551.A.876.html\n",
            "[正妹] 小花 小模 /bbs/Beauty/M.1594535539.A.74B.html\n",
            "[正妹] 運動內衣 /bbs/Beauty/M.1594538880.A.DB9.html\n",
            "[神人] 神這位記者 (劉亭廷) /bbs/Beauty/M.1594554466.A.089.html\n",
            "[正妹] 魔鬼身材的高毓璘 /bbs/Beauty/M.1594555677.A.9D6.html\n",
            "[挑戰] 短髮  一張 /bbs/Beauty/M.1594562810.A.F81.html\n",
            "[神人] 魔鬼身材幫神 /bbs/Beauty/M.1594565982.A.6EA.html\n",
            "[正妹] 大尺碼｜肉特(104) /bbs/Beauty/M.1594570097.A.AB9.html\n"
          ],
          "name": "stdout"
        }
      ]
    },
    {
      "cell_type": "code",
      "metadata": {
        "colab_type": "code",
        "id": "PQXgUZbTGE_6",
        "colab": {
          "base_uri": "https://localhost:8080/",
          "height": 759
        },
        "outputId": "985aa727-91d2-4c41-e6b1-2e91a6c1417d"
      },
      "source": [
        "!pip install datetime \n",
        "!pip install sys \n",
        "!pip install run_time \n",
        "!pip install crawler"
      ],
      "execution_count": 12,
      "outputs": [
        {
          "output_type": "stream",
          "text": [
            "Collecting datetime\n",
            "\u001b[?25l  Downloading https://files.pythonhosted.org/packages/73/22/a5297f3a1f92468cc737f8ce7ba6e5f245fcfafeae810ba37bd1039ea01c/DateTime-4.3-py2.py3-none-any.whl (60kB)\n",
            "\r\u001b[K     |█████▌                          | 10kB 10.8MB/s eta 0:00:01\r\u001b[K     |███████████                     | 20kB 1.7MB/s eta 0:00:01\r\u001b[K     |████████████████▍               | 30kB 2.3MB/s eta 0:00:01\r\u001b[K     |█████████████████████▉          | 40kB 2.5MB/s eta 0:00:01\r\u001b[K     |███████████████████████████▎    | 51kB 2.0MB/s eta 0:00:01\r\u001b[K     |████████████████████████████████| 61kB 1.8MB/s \n",
            "\u001b[?25hRequirement already satisfied: pytz in /usr/local/lib/python3.6/dist-packages (from datetime) (2018.9)\n",
            "Collecting zope.interface\n",
            "\u001b[?25l  Downloading https://files.pythonhosted.org/packages/57/33/565274c28a11af60b7cfc0519d46bde4125fcd7d32ebc0a81b480d0e8da6/zope.interface-5.1.0-cp36-cp36m-manylinux2010_x86_64.whl (234kB)\n",
            "\u001b[K     |████████████████████████████████| 235kB 7.3MB/s \n",
            "\u001b[?25hRequirement already satisfied: setuptools in /usr/local/lib/python3.6/dist-packages (from zope.interface->datetime) (49.1.0)\n",
            "Installing collected packages: zope.interface, datetime\n",
            "Successfully installed datetime-4.3 zope.interface-5.1.0\n",
            "\u001b[31mERROR: Could not find a version that satisfies the requirement sys (from versions: none)\u001b[0m\n",
            "\u001b[31mERROR: No matching distribution found for sys\u001b[0m\n",
            "\u001b[31mERROR: Could not find a version that satisfies the requirement run_time (from versions: none)\u001b[0m\n",
            "\u001b[31mERROR: No matching distribution found for run_time\u001b[0m\n",
            "Collecting crawler\n",
            "  Downloading https://files.pythonhosted.org/packages/8d/42/2b042beebf63f6d490d38b698f06ee4fdd16a1d32fa2373a6b662a37a33d/crawler-0.0.2.tar.gz\n",
            "Collecting aiohttp\n",
            "\u001b[?25l  Downloading https://files.pythonhosted.org/packages/7c/39/7eb5f98d24904e0f6d3edb505d4aa60e3ef83c0a58d6fe18244a51757247/aiohttp-3.6.2-cp36-cp36m-manylinux1_x86_64.whl (1.2MB)\n",
            "\u001b[K     |████████████████████████████████| 1.2MB 2.7MB/s \n",
            "\u001b[?25hRequirement already satisfied: chardet<4.0,>=2.0 in /usr/local/lib/python3.6/dist-packages (from aiohttp->crawler) (3.0.4)\n",
            "Requirement already satisfied: attrs>=17.3.0 in /usr/local/lib/python3.6/dist-packages (from aiohttp->crawler) (19.3.0)\n",
            "Collecting yarl<2.0,>=1.0\n",
            "\u001b[?25l  Downloading https://files.pythonhosted.org/packages/95/8f/0209fc5d975f839344c33c822ff2f7ef80f6b1e984673a5a68f960bfa583/yarl-1.4.2-cp36-cp36m-manylinux1_x86_64.whl (252kB)\n",
            "\u001b[K     |████████████████████████████████| 256kB 16.0MB/s \n",
            "\u001b[?25hCollecting idna-ssl>=1.0; python_version < \"3.7\"\n",
            "  Downloading https://files.pythonhosted.org/packages/46/03/07c4894aae38b0de52b52586b24bf189bb83e4ddabfe2e2c8f2419eec6f4/idna-ssl-1.1.0.tar.gz\n",
            "Requirement already satisfied: typing-extensions>=3.6.5; python_version < \"3.7\" in /usr/local/lib/python3.6/dist-packages (from aiohttp->crawler) (3.7.4.2)\n",
            "Collecting async-timeout<4.0,>=3.0\n",
            "  Downloading https://files.pythonhosted.org/packages/e1/1e/5a4441be21b0726c4464f3f23c8b19628372f606755a9d2e46c187e65ec4/async_timeout-3.0.1-py3-none-any.whl\n",
            "Collecting multidict<5.0,>=4.5\n",
            "\u001b[?25l  Downloading https://files.pythonhosted.org/packages/1a/95/f50352b5366e7d579e8b99631680a9e32e1b22adfa1629a8f23b1d22d5e2/multidict-4.7.6-cp36-cp36m-manylinux1_x86_64.whl (148kB)\n",
            "\u001b[K     |████████████████████████████████| 153kB 16.2MB/s \n",
            "\u001b[?25hRequirement already satisfied: idna>=2.0 in /usr/local/lib/python3.6/dist-packages (from yarl<2.0,>=1.0->aiohttp->crawler) (2.10)\n",
            "Building wheels for collected packages: crawler, idna-ssl\n",
            "  Building wheel for crawler (setup.py) ... \u001b[?25l\u001b[?25hdone\n",
            "  Created wheel for crawler: filename=crawler-0.0.2-cp36-none-any.whl size=9901 sha256=f858f637899276539df2db5302dd179948e053d04c4a6d526f08d8d2b7c9d66b\n",
            "  Stored in directory: /root/.cache/pip/wheels/ba/63/30/8ce336c0fa55c5f266ca335efcba6f919d9794becbc50d5bb5\n",
            "  Building wheel for idna-ssl (setup.py) ... \u001b[?25l\u001b[?25hdone\n",
            "  Created wheel for idna-ssl: filename=idna_ssl-1.1.0-cp36-none-any.whl size=3162 sha256=1f9fe122bad819e897c02c42549efdcfd98d48f9bdab363da3191b1998f73113\n",
            "  Stored in directory: /root/.cache/pip/wheels/d3/00/b3/32d613e19e08a739751dd6bf998cfed277728f8b2127ad4eb7\n",
            "Successfully built crawler idna-ssl\n",
            "Installing collected packages: multidict, yarl, idna-ssl, async-timeout, aiohttp, crawler\n",
            "Successfully installed aiohttp-3.6.2 async-timeout-3.0.1 crawler-0.0.2 idna-ssl-1.1.0 multidict-4.7.6 yarl-1.4.2\n"
          ],
          "name": "stdout"
        }
      ]
    },
    {
      "cell_type": "code",
      "metadata": {
        "colab_type": "code",
        "id": "wsP9nz0tGCQv",
        "colab": {
          "base_uri": "https://localhost:8080/",
          "height": 363
        },
        "outputId": "3e6d3c96-e5b2-4441-9b96-9f272cf4a14c"
      },
      "source": [
        "import datetime\n",
        "import sys\n",
        "from run_time import my_time\n",
        "from crawler import PttSpider, Download, ArticleInfo\n",
        "\n",
        "\n",
        "@my_time\n",
        "def main():\n",
        "    # python beauty_spider2.py [版名] [爬幾頁] [推文多少以上]\n",
        "    # python beauty_spider2.py beauty 3 10\n",
        "    board, page_term, push_rate = sys.argv[1], int(sys.argv[2]), int(sys.argv[3])\n",
        "    # board, page_term, push_rate = 'beauty', 5, 20  # for debugger\n",
        "    print('start crawler ptt {}...'.format(board))\n",
        "    crawler_datetime = datetime.datetime.now()\n",
        "    spider = PttSpider(board=board,\n",
        "                       parser_page=page_term,\n",
        "                       push_rate=push_rate)\n",
        "    spider.run()\n",
        "    datetime_format = '%Y%m%d%H%M%S'\n",
        "    crawler_time = '{}_PttImg_{:{}}'.format(spider.board, crawler_datetime, datetime_format)\n",
        "    info = ArticleInfo.data_process(spider.info, crawler_time)\n",
        "    download = Download(info)\n",
        "    download.run()\n",
        "    print(\"下載完畢...\")\n",
        "\n",
        "\n",
        "if __name__ == '__main__':\n",
        "    main()"
      ],
      "execution_count": 19,
      "outputs": [
        {
          "output_type": "error",
          "ename": "ModuleNotFoundError",
          "evalue": "ignored",
          "traceback": [
            "\u001b[0;31m---------------------------------------------------------------------------\u001b[0m",
            "\u001b[0;31mModuleNotFoundError\u001b[0m                       Traceback (most recent call last)",
            "\u001b[0;32m<ipython-input-19-d17b3244d532>\u001b[0m in \u001b[0;36m<module>\u001b[0;34m()\u001b[0m\n\u001b[1;32m      1\u001b[0m \u001b[0;32mimport\u001b[0m \u001b[0mdatetime\u001b[0m\u001b[0;34m\u001b[0m\u001b[0;34m\u001b[0m\u001b[0m\n\u001b[1;32m      2\u001b[0m \u001b[0;32mimport\u001b[0m \u001b[0msys\u001b[0m\u001b[0;34m\u001b[0m\u001b[0;34m\u001b[0m\u001b[0m\n\u001b[0;32m----> 3\u001b[0;31m \u001b[0;32mfrom\u001b[0m \u001b[0mrun_time\u001b[0m \u001b[0;32mimport\u001b[0m \u001b[0mmy_time\u001b[0m\u001b[0;34m\u001b[0m\u001b[0;34m\u001b[0m\u001b[0m\n\u001b[0m\u001b[1;32m      4\u001b[0m \u001b[0;32mfrom\u001b[0m \u001b[0mcrawler\u001b[0m \u001b[0;32mimport\u001b[0m \u001b[0mPttSpider\u001b[0m\u001b[0;34m,\u001b[0m \u001b[0mDownload\u001b[0m\u001b[0;34m,\u001b[0m \u001b[0mArticleInfo\u001b[0m\u001b[0;34m\u001b[0m\u001b[0;34m\u001b[0m\u001b[0m\n\u001b[1;32m      5\u001b[0m \u001b[0;34m\u001b[0m\u001b[0m\n",
            "\u001b[0;31mModuleNotFoundError\u001b[0m: No module named 'run_time'",
            "",
            "\u001b[0;31m---------------------------------------------------------------------------\u001b[0;32m\nNOTE: If your import is failing due to a missing package, you can\nmanually install dependencies using either !pip or !apt.\n\nTo view examples of installing some common dependencies, click the\n\"Open Examples\" button below.\n\u001b[0;31m---------------------------------------------------------------------------\u001b[0m\n"
          ]
        }
      ]
    },
    {
      "cell_type": "code",
      "metadata": {
        "colab_type": "code",
        "id": "V9XAwIvpqGmd",
        "colab": {}
      },
      "source": [
        "cookies = {\n",
        "    'over18': '1'\n",
        "}\n",
        "url = 'https://www.ptt.cc/bbs/Beauty/index.html' #表特版\n",
        "response = requests.get(url, cookies=cookies) \n",
        "r_text = response.text\n",
        "soup = BeautifulSoup(r_text,'html.parser')\n",
        "art = soup.select('div title a')\n",
        "print (art)\n",
        "for xx in art:\n",
        "    print(xx['href'],xx.text)\n",
        "next = soup.select('div.btn-group-paging a')"
      ],
      "execution_count": null,
      "outputs": []
    },
    {
      "cell_type": "markdown",
      "metadata": {
        "colab_type": "text",
        "id": "eLWk70BibWC5"
      },
      "source": [
        ""
      ]
    },
    {
      "cell_type": "markdown",
      "metadata": {
        "colab_type": "text",
        "id": "TPi4q6yXTlcO"
      },
      "source": [
        "### 爬影片評分"
      ]
    },
    {
      "cell_type": "markdown",
      "metadata": {
        "colab_type": "text",
        "id": "IKYpDDamaRdK"
      },
      "source": [
        "![alt text](https://)"
      ]
    },
    {
      "cell_type": "code",
      "metadata": {
        "colab_type": "code",
        "id": "7bFtno7CQ4LN",
        "colab": {
          "base_uri": "https://localhost:8080/",
          "height": 50
        },
        "outputId": "2dec9d0b-95af-4f3c-c7ca-70aac83c6ef5"
      },
      "source": [
        "url = \"http://www.imdb.com/\"\n",
        "response = requests.get(url)\n",
        "print(response.status_code)\n",
        "print(type(response))"
      ],
      "execution_count": 21,
      "outputs": [
        {
          "output_type": "stream",
          "text": [
            "200\n",
            "<class 'requests.models.Response'>\n"
          ],
          "name": "stdout"
        }
      ]
    },
    {
      "cell_type": "code",
      "metadata": {
        "colab_type": "code",
        "id": "Tuk3i51SYO0D",
        "colab": {}
      },
      "source": [
        "request_url = \"https://www.imdb.com/title/tt4154796/\"\n",
        "response = requests.get(request_url)\n",
        "r_text = response.text"
      ],
      "execution_count": 22,
      "outputs": []
    },
    {
      "cell_type": "code",
      "metadata": {
        "colab_type": "code",
        "id": "Q3rNLRjrYVLi",
        "colab": {
          "base_uri": "https://localhost:8080/",
          "height": 50
        },
        "outputId": "5f1acd5b-a5ab-458b-8b5a-839917c32e6e"
      },
      "source": [
        "print(type(r_text))\n",
        "print(len(r_text))"
      ],
      "execution_count": 23,
      "outputs": [
        {
          "output_type": "stream",
          "text": [
            "<class 'str'>\n",
            "295553\n"
          ],
          "name": "stdout"
        }
      ]
    },
    {
      "cell_type": "code",
      "metadata": {
        "colab_type": "code",
        "id": "T9Gg0voRYe_G",
        "colab": {
          "base_uri": "https://localhost:8080/",
          "height": 34
        },
        "outputId": "d15d0ceb-3ef1-4b5c-c482-a873c3f33ed2"
      },
      "source": [
        "soup = BeautifulSoup(r_text)\n",
        "print(type(soup))"
      ],
      "execution_count": 25,
      "outputs": [
        {
          "output_type": "stream",
          "text": [
            "<class 'bs4.BeautifulSoup'>\n"
          ],
          "name": "stdout"
        }
      ]
    },
    {
      "cell_type": "code",
      "metadata": {
        "colab_type": "code",
        "id": "mH8hzWqMYfro",
        "colab": {
          "base_uri": "https://localhost:8080/",
          "height": 34
        },
        "outputId": "48e54d15-e272-4b16-8736-1afb06bc8f47"
      },
      "source": [
        "movie_title_cs = \"h1\"\n",
        "movie_poster_cs = \".poster img\"\n",
        "movie_rating_cs = \"strong span\"\n",
        "movie_genre_cs = \".subtext a\"\n",
        "movie_cast_cs = \".primary_photo+ td a\"\n",
        "soup.select(movie_title_cs)"
      ],
      "execution_count": 26,
      "outputs": [
        {
          "output_type": "execute_result",
          "data": {
            "text/plain": [
              "[<h1 class=\"\">Avengers: Endgame <span id=\"titleYear\">(<a href=\"/year/2019/\">2019</a>)</span> </h1>]"
            ]
          },
          "metadata": {
            "tags": []
          },
          "execution_count": 26
        }
      ]
    },
    {
      "cell_type": "code",
      "metadata": {
        "colab_type": "code",
        "id": "EygrPCDyY48i",
        "colab": {
          "base_uri": "https://localhost:8080/",
          "height": 35
        },
        "outputId": "b7836588-62fe-4f50-a3b5-74cb233bc855"
      },
      "source": [
        "elem = soup.select(movie_title_cs)[0]\n",
        "movie_title = elem.text.strip().replace(\"\\xa0\", \"\")\n",
        "movie_title"
      ],
      "execution_count": 27,
      "outputs": [
        {
          "output_type": "execute_result",
          "data": {
            "application/vnd.google.colaboratory.intrinsic": {
              "type": "string"
            },
            "text/plain": [
              "'Avengers: Endgame(2019)'"
            ]
          },
          "metadata": {
            "tags": []
          },
          "execution_count": 27
        }
      ]
    },
    {
      "cell_type": "code",
      "metadata": {
        "colab_type": "code",
        "id": "bW1fI0aIYh_T",
        "colab": {
          "base_uri": "https://localhost:8080/",
          "height": 54
        },
        "outputId": "2d885293-76bf-401a-8267-c0fd033d9184"
      },
      "source": [
        "soup.select(movie_poster_cs)"
      ],
      "execution_count": 28,
      "outputs": [
        {
          "output_type": "execute_result",
          "data": {
            "text/plain": [
              "[<img alt=\"Avengers: Endgame Poster\" src=\"https://m.media-amazon.com/images/M/MV5BMTc5MDE2ODcwNV5BMl5BanBnXkFtZTgwMzI2NzQ2NzM@._V1_UX182_CR0,0,182,268_AL_.jpg\" title=\"Avengers: Endgame Poster\"/>]"
            ]
          },
          "metadata": {
            "tags": []
          },
          "execution_count": 28
        }
      ]
    },
    {
      "cell_type": "code",
      "metadata": {
        "colab_type": "code",
        "id": "MURL7xXnYhIQ",
        "colab": {
          "base_uri": "https://localhost:8080/",
          "height": 34
        },
        "outputId": "456f6a2e-6c8c-4b6f-fb30-fd5ed828b9bf"
      },
      "source": [
        "elem = soup.select(movie_rating_cs)[0]\n",
        "movie_rating = float(elem.text)\n",
        "movie_rating"
      ],
      "execution_count": null,
      "outputs": [
        {
          "output_type": "execute_result",
          "data": {
            "text/plain": [
              "8.4"
            ]
          },
          "metadata": {
            "tags": []
          },
          "execution_count": 19
        }
      ]
    },
    {
      "cell_type": "markdown",
      "metadata": {
        "colab_type": "text",
        "id": "-R2Zv1csSXHf"
      },
      "source": [
        "### NBA範例"
      ]
    },
    {
      "cell_type": "code",
      "metadata": {
        "colab_type": "code",
        "id": "yXM_xtAfRnCf",
        "colab": {
          "base_uri": "https://localhost:8080/",
          "height": 768
        },
        "outputId": "f1d069cd-9b6f-4bb6-aafd-232c085a6eec"
      },
      "source": [
        "url2 = \"https://data.nba.net/10s/prod/v3/today.json\"\n",
        "response = requests.get(url2)\n",
        "r_json = response.json()\n",
        "print(r_json)\n",
        "print(type(r_json))\n",
        "r_json['links']"
      ],
      "execution_count": null,
      "outputs": [
        {
          "output_type": "stream",
          "text": [
            "{'_internal': {'pubDateTime': '2020-07-13 12:00:51.289 EDT', 'igorPath': 'cron,1594656049862,1594656049862|router,1594656049862,1594656050017|domUpdater,1594656050141,1594656050794|feedProducer,1594656051093,1594656052873', 'xslt': 'NBA/xsl/league/schedule/marty_today.xsl', 'xsltForceRecompile': 'true', 'xsltInCache': 'false', 'xsltCompileTimeMillis': '65', 'xsltTransformTimeMillis': '68', 'consolidatedDomKey': 'prod__transform__marty_today__3334323387867', 'endToEndTimeMillis': '3011'}, 'teamSitesOnly': {'seasonStage': 2, 'seasonYear': 2019, 'rosterYear': 2019, 'statsStage': 2, 'statsYear': 2019, 'displayYear': '2019-20', 'lastPlayByPlay': '/json/cms/noseason/game/{{gameDate}}/{{gameId}}/pbp_last.json', 'allPlayByPlay': '/data/10s/json/cms/noseason/game/{{gameDate}}/{{gameId}}/pbp_all.json', 'playerMatchup': '/data/10s/json/cms/2019/game/{{gameDate}}/{{gameId}}/playersPerGame.json', 'series': '/data/5s/json/cms/2019/regseason/team/{{teamUrlCode}}/series.json'}, 'seasonScheduleYear': 2019, 'showPlayoffsClinch': True, 'links': {'anchorDate': '20200730', 'currentDate': '20200730', 'calendar': '/prod/v1/multi/calendar.json', 'todayScoreboard': '/prod/v2/20200730/scoreboard.json', 'currentScoreboard': '/prod/v2/20200730/scoreboard.json', 'teams': '/prod/v2/2019/teams.json', 'scoreboard': '/prod/v2/{{gameDate}}/scoreboard.json', 'leagueRosterPlayers': '/prod/v1/2019/players.json', 'allstarRoster': '/prod/v1/allstar/2018/AS_roster.json', 'leagueRosterCoaches': '/prod/v1/2019/coaches.json', 'leagueSchedule': '/prod/v1/multi/schedule.json', 'leagueConfStandings': '/prod/v1/current/standings_conference.json', 'leagueDivStandings': '/prod/v1/current/standings_division.json', 'leagueUngroupedStandings': '/prod/v1/current/standings_all.json', 'leagueMiniStandings': '/prod/v1/current/standings_all_no_sort_keys.json', 'leagueTeamStatsLeaders': '/prod/v1/2019/team_stats_rankings.json', 'leagueLastFiveGameTeamStats': '/prod/v1/2019/team_stats_last_five_games.json', 'previewArticle': '/prod/v1/{{gameDate}}/{{gameId}}_preview_article.json', 'recapArticle': '/prod/v1/{{gameDate}}/{{gameId}}_recap_article.json', 'gameBookPdf': '/prod/v1/{{gameDate}}/{{gameId}}_Book.pdf', 'boxscore': '/prod/v1/{{gameDate}}/{{gameId}}_boxscore.json', 'miniBoxscore': '/prod/v1/{{gameDate}}/{{gameId}}_mini_boxscore.json', 'pbp': '/prod/v1/{{gameDate}}/{{gameId}}_pbp_{{periodNum}}.json', 'leadTracker': '/prod/v1/{{gameDate}}/{{gameId}}_lead_tracker_{{periodNum}}.json', 'playerGameLog': '/prod/v1/2019/players/{{personId}}_gamelog.json', 'playerProfile': '/prod/v1/2019/players/{{personId}}_profile.json', 'playerUberStats': '/prod/v1/2019/players/{{personId}}_uber_stats.json', 'teamSchedule': '/prod/v1/2019/teams/{{teamUrlCode}}/schedule.json', 'teamsConfig': '/prod/2019/teams_config.json', 'teamRoster': '/prod/v1/2019/teams/{{teamUrlCode}}/roster.json', 'teamsConfigYear': '/prod/{{seasonScheduleYear}}/teams_config.json', 'teamScheduleYear': '/prod/v1/{{seasonScheduleYear}}/teams/{{teamUrlCode}}/schedule.json', 'teamLeaders': '/prod/v1/2019/teams/{{teamUrlCode}}/leaders.json', 'teamScheduleYear2': '/prod/v1/{{seasonScheduleYear}}/teams/{{teamId}}/schedule.json', 'teamLeaders2': '/prod/v1/2019/teams/{{teamId}}/leaders.json', 'teamICS': '/prod/teams/schedules/2019/{{teamUrlCode}}_home_schedule.ics', 'teamICS2': '/prod/teams/schedules/2019/{{teamUrlCode}}_schedule.ics', 'playoffsBracket': '/prod/v1/2018/playoffsBracket.json', 'playoffSeriesLeaders': '/prod/v1/2018/playoffs_{{seriesId}}_leaders.json', 'universalLinkMapping': 'https://www.nba.com/mobile/apps/configs/prod/universalLinkMapping.json', 'ticketLink': 'https://a.data.nba.com/tickets/single/{{seasonScheduleYear}}/{{gameId}}/{{trackingId}}'}}\n",
            "<class 'dict'>\n"
          ],
          "name": "stdout"
        },
        {
          "output_type": "execute_result",
          "data": {
            "text/plain": [
              "{'allstarRoster': '/prod/v1/allstar/2018/AS_roster.json',\n",
              " 'anchorDate': '20200730',\n",
              " 'boxscore': '/prod/v1/{{gameDate}}/{{gameId}}_boxscore.json',\n",
              " 'calendar': '/prod/v1/multi/calendar.json',\n",
              " 'currentDate': '20200730',\n",
              " 'currentScoreboard': '/prod/v2/20200730/scoreboard.json',\n",
              " 'gameBookPdf': '/prod/v1/{{gameDate}}/{{gameId}}_Book.pdf',\n",
              " 'leadTracker': '/prod/v1/{{gameDate}}/{{gameId}}_lead_tracker_{{periodNum}}.json',\n",
              " 'leagueConfStandings': '/prod/v1/current/standings_conference.json',\n",
              " 'leagueDivStandings': '/prod/v1/current/standings_division.json',\n",
              " 'leagueLastFiveGameTeamStats': '/prod/v1/2019/team_stats_last_five_games.json',\n",
              " 'leagueMiniStandings': '/prod/v1/current/standings_all_no_sort_keys.json',\n",
              " 'leagueRosterCoaches': '/prod/v1/2019/coaches.json',\n",
              " 'leagueRosterPlayers': '/prod/v1/2019/players.json',\n",
              " 'leagueSchedule': '/prod/v1/multi/schedule.json',\n",
              " 'leagueTeamStatsLeaders': '/prod/v1/2019/team_stats_rankings.json',\n",
              " 'leagueUngroupedStandings': '/prod/v1/current/standings_all.json',\n",
              " 'miniBoxscore': '/prod/v1/{{gameDate}}/{{gameId}}_mini_boxscore.json',\n",
              " 'pbp': '/prod/v1/{{gameDate}}/{{gameId}}_pbp_{{periodNum}}.json',\n",
              " 'playerGameLog': '/prod/v1/2019/players/{{personId}}_gamelog.json',\n",
              " 'playerProfile': '/prod/v1/2019/players/{{personId}}_profile.json',\n",
              " 'playerUberStats': '/prod/v1/2019/players/{{personId}}_uber_stats.json',\n",
              " 'playoffSeriesLeaders': '/prod/v1/2018/playoffs_{{seriesId}}_leaders.json',\n",
              " 'playoffsBracket': '/prod/v1/2018/playoffsBracket.json',\n",
              " 'previewArticle': '/prod/v1/{{gameDate}}/{{gameId}}_preview_article.json',\n",
              " 'recapArticle': '/prod/v1/{{gameDate}}/{{gameId}}_recap_article.json',\n",
              " 'scoreboard': '/prod/v2/{{gameDate}}/scoreboard.json',\n",
              " 'teamICS': '/prod/teams/schedules/2019/{{teamUrlCode}}_home_schedule.ics',\n",
              " 'teamICS2': '/prod/teams/schedules/2019/{{teamUrlCode}}_schedule.ics',\n",
              " 'teamLeaders': '/prod/v1/2019/teams/{{teamUrlCode}}/leaders.json',\n",
              " 'teamLeaders2': '/prod/v1/2019/teams/{{teamId}}/leaders.json',\n",
              " 'teamRoster': '/prod/v1/2019/teams/{{teamUrlCode}}/roster.json',\n",
              " 'teamSchedule': '/prod/v1/2019/teams/{{teamUrlCode}}/schedule.json',\n",
              " 'teamScheduleYear': '/prod/v1/{{seasonScheduleYear}}/teams/{{teamUrlCode}}/schedule.json',\n",
              " 'teamScheduleYear2': '/prod/v1/{{seasonScheduleYear}}/teams/{{teamId}}/schedule.json',\n",
              " 'teams': '/prod/v2/2019/teams.json',\n",
              " 'teamsConfig': '/prod/2019/teams_config.json',\n",
              " 'teamsConfigYear': '/prod/{{seasonScheduleYear}}/teams_config.json',\n",
              " 'ticketLink': 'https://a.data.nba.com/tickets/single/{{seasonScheduleYear}}/{{gameId}}/{{trackingId}}',\n",
              " 'todayScoreboard': '/prod/v2/20200730/scoreboard.json',\n",
              " 'universalLinkMapping': 'https://www.nba.com/mobile/apps/configs/prod/universalLinkMapping.json'}"
            ]
          },
          "metadata": {
            "tags": []
          },
          "execution_count": 18
        }
      ]
    },
    {
      "cell_type": "code",
      "metadata": {
        "colab_type": "code",
        "id": "vWoinX9-SwGC",
        "colab": {
          "base_uri": "https://localhost:8080/",
          "height": 68
        },
        "outputId": "2e529438-06f8-4938-b1a5-7871242fbb92"
      },
      "source": [
        "url3 = \"https://data.nba.net/prod/v2/2019/teams.json\"\n",
        "response = requests.get(url3)\n",
        "r_json = response.json()\n",
        "teams = r_json['league']['standard']\n",
        "print(type(teams))\n",
        "print(len(teams))\n",
        "nba_teams = [team for team in teams if team['isNBAFranchise']]\n",
        "print(len(nba_teams))"
      ],
      "execution_count": null,
      "outputs": [
        {
          "output_type": "stream",
          "text": [
            "<class 'list'>\n",
            "52\n",
            "30\n"
          ],
          "name": "stdout"
        }
      ]
    },
    {
      "cell_type": "markdown",
      "metadata": {
        "colab_type": "text",
        "id": "RyPESVG1ORMI"
      },
      "source": [
        "## 0729 ML (Kaggle 題目)"
      ]
    },
    {
      "cell_type": "code",
      "metadata": {
        "colab_type": "code",
        "id": "nsxauhGDvmNv",
        "colab": {}
      },
      "source": [
        ""
      ],
      "execution_count": null,
      "outputs": []
    },
    {
      "cell_type": "markdown",
      "metadata": {
        "colab_type": "text",
        "id": "kdKRWSIQv6bC"
      },
      "source": [
        ""
      ]
    },
    {
      "cell_type": "markdown",
      "metadata": {
        "colab_type": "text",
        "id": "9Vwx1aYUwWPd"
      },
      "source": [
        "## 0812 python flask、Django架站"
      ]
    },
    {
      "cell_type": "markdown",
      "metadata": {
        "colab_type": "text",
        "id": "GDWRHFHUOSd4"
      },
      "source": [
        "# 附錄"
      ]
    },
    {
      "cell_type": "code",
      "metadata": {
        "id": "s3E_dywAayaI",
        "colab_type": "code",
        "colab": {
          "base_uri": "https://localhost:8080/",
          "height": 34
        },
        "outputId": "a5a3f401-fade-4d38-b443-a46c6e38d44f"
      },
      "source": [
        "import time\n",
        "date = time.strftime(\"%m/%d\").lstrip('0')\n",
        "print(date)"
      ],
      "execution_count": null,
      "outputs": [
        {
          "output_type": "stream",
          "text": [
            "7/15\n"
          ],
          "name": "stdout"
        }
      ]
    },
    {
      "cell_type": "markdown",
      "metadata": {
        "colab_type": "text",
        "id": "FA30Ecu3QZn4"
      },
      "source": [
        "# 單機 教學"
      ]
    },
    {
      "cell_type": "markdown",
      "metadata": {
        "colab_type": "text",
        "id": "aBlhSw1qMSVc"
      },
      "source": [
        "# New Section"
      ]
    },
    {
      "cell_type": "markdown",
      "metadata": {
        "colab_type": "text",
        "id": "Dj16wkUzQjgj"
      },
      "source": [
        "conda env list\n",
        "\n",
        "conda create --name web_scraping python=3.7.6\n",
        "\n",
        "conda activate web_scraping\n",
        "\n",
        "conda install ipykernel requests lxml beautifulsoup4 selenium  #conda 要裝得套件\n",
        "\n"
      ]
    }
  ]
}